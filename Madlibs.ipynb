{
 "cells": [
  {
   "cell_type": "markdown",
   "metadata": {},
   "source": [
    "# Madlib \n",
    "\n",
    "### Example\n",
    "\n",
    "Dear School Nurse,\n",
    "\n",
    "My children, *Alex* and *James*, will unfortunately not be able to attend school this week. This past weekend, they were *running* when all of a sudden, a *gigantic* *pig* appeared and bit them on the *ankle*. As a result, they have not been able to *eat* all week. They have appointments with Dr. *Johnson*, who is world-renowned for his *huge* *dogs*. Hopefully, they will be able to *swim* again.\n",
    "\n",
    "I understand that this week they were going to learn about *Paris* and its history. I have traveled there *6* times before, so I know all about it. I will be sure to teach them *quickly*.\n",
    "\n",
    "Thank you for being so *kind*!\n",
    "Sincerely,\n",
    "Mrs. *Purple*"
   ]
  },
  {
   "cell_type": "code",
   "execution_count": 15,
   "metadata": {},
   "outputs": [
    {
     "name": "stdout",
     "output_type": "stream",
     "text": [
      "Give a name: d\n",
      "Give another name: d\n",
      "Verb ending in -ing: d\n",
      "Adjective: ddd\n",
      "Animal: d\n",
      "Body part: d\n",
      "Verb: d\n",
      "Give a last name: d\n",
      "Adjective: d\n",
      "Noun: d\n",
      "Verb: dd\n",
      "Any city in the world: d\n",
      "Number greater than 0: d\n",
      "Adverb: d\n",
      "Adjective: dd\n",
      "Give another last name: d\n",
      "\n",
      "Dear School Nurse,\n",
      "\n",
      "My children, d and d will unfortunately not be able to attend school this week. This past weekend, they were d when all of a sudden, a ddd d appeared and bit them on the d. As a result, they have not been able to d all week. They have appointments with Dr. d, who is world-renowned for his d d. Hopefully, they will be able to dd again. \n",
      "\n",
      "I understand that this week they were going to learn about d and its history. I have traveled there d times before, so I know all about it. I will be sure to teach them d. \n",
      "\n",
      "Thank you for being so dd! \n",
      "Sincerely, \n",
      "Mrs. d\n"
     ]
    }
   ],
   "source": [
    "name1 = input(\"Give a name: \")\n",
    "name2 = input(\"Give another name: \")\n",
    "verb1 = input(\"Verb ending in -ing: \")\n",
    "adjective1 = input(\"Adjective: \")\n",
    "animal1 = input(\"Animal: \")\n",
    "bodypart1 = input(\"Body part: \")\n",
    "verb2 = input(\"Verb: \")\n",
    "lastname1 = input(\"Give a last name: \")\n",
    "adjective2 = input(\"Adjective: \")\n",
    "noun1 = input(\"Noun: \")\n",
    "verb3 = input(\"Verb: \")\n",
    "city1 = input(\"Any city in the world: \")\n",
    "number1 = input(\"Number greater than 0: \")\n",
    "adverb1 = input(\"Adverb: \")\n",
    "adjective3 = input(\"Adjective: \")\n",
    "lastname2 = input(\"Give another last name: \")\n",
    "\n",
    "madlib = f\"\\nDear School Nurse,\\n\\n\\\n",
    "My children, {name1} and {name2} will unfortunately not be able to attend school this week. \\\n",
    "This past weekend, they were {verb1} when all of a sudden, a {adjective1} {animal1} appeared and bit them on the {bodypart1}. \\\n",
    "As a result, they have not been able to {verb2} all week. \\\n",
    "They have appointments with Dr. {lastname1}, who is world-renowned for his {adjective2} {noun1}. \\\n",
    "Hopefully, they will be able to {verb3} again. \\n\\n\\\n",
    "I understand that this week they were going to learn about {city1} and its history. \\\n",
    "I have traveled there {number1} times before, so I know all about it. \\\n",
    "I will be sure to teach them {adverb1}. \\n\\n\\\n",
    "Thank you for being so {adjective3}! \\n\\\n",
    "Sincerely, \\n\\\n",
    "Mrs. {lastname2}\"\n",
    "\n",
    "print(madlib)"
   ]
  },
  {
   "cell_type": "code",
   "execution_count": null,
   "metadata": {},
   "outputs": [],
   "source": []
  }
 ],
 "metadata": {
  "kernelspec": {
   "display_name": "Python 3 (ipykernel)",
   "language": "python",
   "name": "python3"
  },
  "language_info": {
   "codemirror_mode": {
    "name": "ipython",
    "version": 3
   },
   "file_extension": ".py",
   "mimetype": "text/x-python",
   "name": "python",
   "nbconvert_exporter": "python",
   "pygments_lexer": "ipython3",
   "version": "3.8.3"
  }
 },
 "nbformat": 4,
 "nbformat_minor": 4
}
