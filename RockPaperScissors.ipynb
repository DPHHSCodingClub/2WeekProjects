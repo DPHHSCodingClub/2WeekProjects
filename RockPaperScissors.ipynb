{
 "cells": [
  {
   "cell_type": "markdown",
   "metadata": {},
   "source": [
    "# Rock, Paper, Scissors\n",
    "\n",
    "This will require your mentee to use if-else statements"
   ]
  },
  {
   "cell_type": "code",
   "execution_count": 22,
   "metadata": {},
   "outputs": [],
   "source": [
    "import random\n",
    "import time"
   ]
  },
  {
   "cell_type": "code",
   "execution_count": 30,
   "metadata": {},
   "outputs": [],
   "source": [
    "def rockpaperscissors():\n",
    "    \n",
    "    # Ask the user to choose rock, paper, or scissors\n",
    "    user = input(\"Do you choose rock, paper, or scissors? \")\n",
    "    \n",
    "    # Make sure only rock, paper, or scissors\n",
    "    while user not in ['rock','paper','scissors']:\n",
    "        print(\"Please only type 'rock','paper', or 'scissors'\\n\")\n",
    "        user = input(\"Do you choose rock, paper, or scissors? \")\n",
    "    \n",
    "    # Have computer choose random choice\n",
    "    computer = random.choice(['rock','paper','scissors'])\n",
    "    \n",
    "    # Sleep, to build suspence\n",
    "    time.sleep(0.5)\n",
    "    print('The computer chose ',computer,'!!')\n",
    "    time.sleep(0.5)\n",
    "    \n",
    "    # Check Tie case\n",
    "    if user == computer:\n",
    "        print('Tie! \\n')\n",
    "    \n",
    "    # Cases where we win\n",
    "    elif (user == 'rock' and computer == 'scissors') or (user == 'paper' and computer == 'rock') or (user == 'scissors' and computer == 'paper'):\n",
    "        print('You win! \\n')\n",
    "    \n",
    "    # Else we lose\n",
    "    else:\n",
    "        print('You lose! \\n')\n",
    "        \n",
    "    # Ask to play again\n",
    "    time.sleep(0.5)        \n",
    "    playagain = input(\"Type 'quit' to stop playing. Otherwise, press enter to play again \")\n",
    "    \n",
    "    if playagain == 'quit':\n",
    "        return\n",
    "    else: \n",
    "        rockpaperscissors()"
   ]
  },
  {
   "cell_type": "code",
   "execution_count": null,
   "metadata": {},
   "outputs": [],
   "source": [
    "rockpaperscissors()"
   ]
  },
  {
   "cell_type": "code",
   "execution_count": null,
   "metadata": {},
   "outputs": [],
   "source": []
  }
 ],
 "metadata": {
  "kernelspec": {
   "display_name": "Python 3 (ipykernel)",
   "language": "python",
   "name": "python3"
  },
  "language_info": {
   "codemirror_mode": {
    "name": "ipython",
    "version": 3
   },
   "file_extension": ".py",
   "mimetype": "text/x-python",
   "name": "python",
   "nbconvert_exporter": "python",
   "pygments_lexer": "ipython3",
   "version": "3.8.3"
  }
 },
 "nbformat": 4,
 "nbformat_minor": 4
}
